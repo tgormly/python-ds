{
 "cells": [
  {
   "cell_type": "markdown",
   "metadata": {},
   "source": [
    "## Tim Gormly\n",
    "### 3/10/2024"
   ]
  },
  {
   "cell_type": "markdown",
   "metadata": {},
   "source": [
    "<hr>\n",
    "\n",
    "write Python that uses loops to draw the following pattern:\n",
    "\n",
    "```\n",
    "*      *\n",
    "**    **\n",
    "***  ***\n",
    "********"
   ]
  },
  {
   "cell_type": "code",
   "execution_count": 13,
   "metadata": {},
   "outputs": [
    {
     "name": "stdout",
     "output_type": "stream",
     "text": [
      "*      *\n",
      "**    **\n",
      "***  ***\n",
      "********\n",
      "\n",
      "*                  *\n",
      "**                **\n",
      "***              ***\n",
      "****            ****\n",
      "*****          *****\n",
      "******        ******\n",
      "*******      *******\n",
      "********    ********\n",
      "*********  *********\n",
      "********************\n"
     ]
    }
   ],
   "source": [
    "def star_pattern(height): \n",
    "    '''printing function that accepts the height of a pattern and then\n",
    "    prints a pattern of stars and spaces.'''\n",
    "\n",
    "    for row in range(1, height + 1):\n",
    "        # left side stars\n",
    "        for i in (range(row)):\n",
    "            print('*', end='') #end with '' print so a linebreak is not automatically added\n",
    "\n",
    "        # center blanks\n",
    "        for i in (range(2 * (height - row))):\n",
    "            print(' ', end='')\n",
    "\n",
    "        # right side stars\n",
    "        for i in (range(row)):\n",
    "            print('*', end='')\n",
    "\n",
    "        # print for line break\n",
    "        print('')\n",
    "\n",
    "\n",
    "star_pattern(4)\n",
    "\n",
    "print()\n",
    "\n",
    "star_pattern(10)\n"
   ]
  }
 ],
 "metadata": {
  "kernelspec": {
   "display_name": "Python 3",
   "language": "python",
   "name": "python3"
  },
  "language_info": {
   "codemirror_mode": {
    "name": "ipython",
    "version": 3
   },
   "file_extension": ".py",
   "mimetype": "text/x-python",
   "name": "python",
   "nbconvert_exporter": "python",
   "pygments_lexer": "ipython3",
   "version": "3.11.8"
  }
 },
 "nbformat": 4,
 "nbformat_minor": 2
}
